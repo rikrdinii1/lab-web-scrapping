{
 "cells": [
  {
   "cell_type": "markdown",
   "metadata": {},
   "source": [
    "# Web Scraping Lab\n",
    "\n",
    "You will find in this notebook some scrapy exercises to practise your scraping skills.\n",
    "\n",
    "**Tips:**\n",
    "\n",
    "- Check the response status code for each request to ensure you have obtained the intended contennt.\n",
    "- Print the response text in each request to understand the kind of info you are getting and its format.\n",
    "- Check for patterns in the response text to extract the data/info requested in each question.\n",
    "- Visit each url and take a look at its source through Chrome DevTools. You'll need to identify the html tags, special class names etc. used for the html content you are expected to extract."
   ]
  },
  {
   "cell_type": "markdown",
   "metadata": {},
   "source": [
    "- [Requests library](http://docs.python-requests.org/en/master/#the-user-guide) documentation \n",
    "- [Beautiful Soup Doc](https://www.crummy.com/software/BeautifulSoup/bs4/doc/)\n",
    "- [Urllib](https://docs.python.org/3/library/urllib.html#module-urllib)\n",
    "- [re lib](https://docs.python.org/3/library/re.html)\n",
    "- [lxml lib](https://lxml.de/)\n",
    "- [Scrapy](https://scrapy.org/)\n",
    "- [List of HTTP status codes](https://en.wikipedia.org/wiki/List_of_HTTP_status_codes)\n",
    "- [HTML basics](http://www.simplehtmlguide.com/cheatsheet.php)\n",
    "- [CSS basics](https://www.cssbasics.com/#page_start)"
   ]
  },
  {
   "cell_type": "markdown",
   "metadata": {},
   "source": [
    "#### Below are the libraries and modules you may need. `requests`,  `BeautifulSoup` and `pandas` are imported for you. If you prefer to use additional libraries feel free to uncomment them."
   ]
  },
  {
   "cell_type": "code",
   "execution_count": 1,
   "metadata": {},
   "outputs": [],
   "source": [
    "import requests\n",
    "from bs4 import BeautifulSoup\n",
    "import pandas as pd\n",
    "# from pprint import pprint\n",
    "# from lxml import html\n",
    "# from lxml.html import fromstring\n",
    "# import urllib.request\n",
    "# from urllib.request import urlopen\n",
    "# import random\n",
    "import re\n",
    "# import scrapy"
   ]
  },
  {
   "cell_type": "markdown",
   "metadata": {},
   "source": [
    "#### Download, parse (using BeautifulSoup), and print the content from the Trending Developers page from GitHub:"
   ]
  },
  {
   "cell_type": "code",
   "execution_count": 2,
   "metadata": {},
   "outputs": [],
   "source": [
    "# This is the url you will scrape in this exercise\n",
    "url = 'https://github.com/trending/developers'"
   ]
  },
  {
   "cell_type": "code",
   "execution_count": 3,
   "metadata": {},
   "outputs": [],
   "source": [
    "#your code\n",
    "html = requests.get(url).content\n",
    "soup = BeautifulSoup(html, 'lxml')"
   ]
  },
  {
   "cell_type": "markdown",
   "metadata": {},
   "source": [
    "#### Display the names of the trending developers retrieved in the previous step.\n",
    "\n",
    "Your output should be a Python list of developer names. Each name should not contain any html tag.\n",
    "\n",
    "**Instructions:**\n",
    "\n",
    "1. Find out the html tag and class names used for the developer names. You can achieve this using Chrome DevTools.\n",
    "\n",
    "1. Use BeautifulSoup to extract all the html elements that contain the developer names.\n",
    "\n",
    "1. Use string manipulation techniques to replace whitespaces and linebreaks (i.e. `\\n`) in the *text* of each html element. Use a list to store the clean names.\n",
    "\n",
    "1. Print the list of names.\n",
    "\n",
    "Your output should look like below:\n",
    "\n",
    "```\n",
    "['trimstray (@trimstray)',\n",
    " 'joewalnes (JoeWalnes)',\n",
    " 'charlax (Charles-AxelDein)',\n",
    " 'ForrestKnight (ForrestKnight)',\n",
    " 'revery-ui (revery-ui)',\n",
    " 'alibaba (Alibaba)',\n",
    " 'Microsoft (Microsoft)',\n",
    " 'github (GitHub)',\n",
    " 'facebook (Facebook)',\n",
    " 'boazsegev (Bo)',\n",
    " 'google (Google)',\n",
    " 'cloudfetch',\n",
    " 'sindresorhus (SindreSorhus)',\n",
    " 'tensorflow',\n",
    " 'apache (TheApacheSoftwareFoundation)',\n",
    " 'DevonCrawford (DevonCrawford)',\n",
    " 'ARMmbed (ArmMbed)',\n",
    " 'vuejs (vuejs)',\n",
    " 'fastai (fast.ai)',\n",
    " 'QiShaoXuan (Qi)',\n",
    " 'joelparkerhenderson (JoelParkerHenderson)',\n",
    " 'torvalds (LinusTorvalds)',\n",
    " 'CyC2018',\n",
    " 'komeiji-satori (神楽坂覚々)',\n",
    " 'script-8']\n",
    " ```"
   ]
  },
  {
   "cell_type": "code",
   "execution_count": 4,
   "metadata": {},
   "outputs": [
    {
     "data": {
      "text/plain": [
       "{'Ariel Mashraki': 'balloob',\n",
       " 'Javier Suárez': 'balloob',\n",
       " 'David Rodríguez': 'balloob',\n",
       " 'Luís Cobucci': 'balloob',\n",
       " 'Mariusz Nowak': 'balloob',\n",
       " \"Debbie O'Brien\": 'balloob',\n",
       " 'Sean McArthur': 'balloob',\n",
       " 'Remi Rousselet': 'balloob',\n",
       " 'Andrew Kane': 'balloob',\n",
       " 'francisco souza': 'balloob',\n",
       " 'Miek Gieben': 'balloob',\n",
       " 'Bartlomiej Plotka': 'balloob',\n",
       " 'Geoff Boeing': 'balloob',\n",
       " 'Carlos Cuesta': 'balloob',\n",
       " 'Phil Pluckthun': 'balloob',\n",
       " 'Tobias Koppers': 'balloob',\n",
       " 'Nisar Hassan Naqvi': 'balloob',\n",
       " 'Jason Quense': 'balloob',\n",
       " 'XhmikosR': 'balloob',\n",
       " 'hackerman': 'balloob',\n",
       " 'Pariente Manuel': 'balloob',\n",
       " 'Wojciech Maj': 'balloob',\n",
       " 'Mladen Macanović': 'balloob',\n",
       " 'Daniel Cazzulino': 'balloob',\n",
       " 'Paulus Schoutsen': 'balloob'}"
      ]
     },
     "execution_count": 4,
     "metadata": {},
     "output_type": "execute_result"
    }
   ],
   "source": [
    "#your code\n",
    "names = soup.select('h1[class=\"h3 lh-condensed\"]') \n",
    "username = soup.select('p[class=\"f4 text-normal mb-1\"]')\n",
    "\n",
    "names_clean = [element.text.strip() for element in names]\n",
    "username_clean = [element.text.strip() for element in username]\n",
    "\n",
    "lista = {}\n",
    "\n",
    "for i in names_clean:\n",
    "    lista[i] = 1\n",
    "\n",
    "for i in lista.keys():\n",
    "    for a in username_clean:\n",
    "        lista[i]=a\n",
    "        \n",
    "lista\n"
   ]
  },
  {
   "cell_type": "markdown",
   "metadata": {},
   "source": [
    "#### Display the trending Python repositories in GitHub\n",
    "\n",
    "The steps to solve this problem is similar to the previous one except that you need to find out the repository names instead of developer names."
   ]
  },
  {
   "cell_type": "code",
   "execution_count": 5,
   "metadata": {},
   "outputs": [
    {
     "name": "stdout",
     "output_type": "stream",
     "text": [
      "['TheAlgorithms /', 'vinta /', 'trekhleb /', 'jerry-git /', 'gradslam /', 'ansible /', '3b1b /', 'donnemartin /', 'y1ndan /', 'tensorflow /', 'Hari-Nagarajan /', 'edx /', 'apache /', 'streamlit /', 'lorenzodifuccia /', 'microsoft /', 'jupyterhub /', 'junyanz /', 'jackfrued /', 'returntocorp /', 'RasaHQ /', 'openai /', 'encode /', 'QUANTAXIS /', 'facebookresearch /']\n"
     ]
    }
   ],
   "source": [
    "# This is the url you will scrape in this exercise\n",
    "url = 'https://github.com/trending/python?since=daily'\n",
    "html = requests.get(url).content\n",
    "soup = BeautifulSoup(html, 'lxml')\n",
    "\n",
    "repo = soup.select('a[data-hydro-click] > span') \n",
    "\n",
    "repo_clean = [element.text.strip() for element in repo]\n",
    "\n",
    "print(repo_clean)"
   ]
  },
  {
   "cell_type": "code",
   "execution_count": null,
   "metadata": {},
   "outputs": [],
   "source": []
  },
  {
   "cell_type": "code",
   "execution_count": 6,
   "metadata": {},
   "outputs": [],
   "source": [
    "#your code"
   ]
  },
  {
   "cell_type": "markdown",
   "metadata": {},
   "source": [
    "#### Display all the image links from Walt Disney wikipedia page"
   ]
  },
  {
   "cell_type": "code",
   "execution_count": 7,
   "metadata": {},
   "outputs": [],
   "source": [
    "# This is the url you will scrape in this exercise\n",
    "url = 'https://en.wikipedia.org/wiki/Walt_Disney'\n"
   ]
  },
  {
   "cell_type": "code",
   "execution_count": 8,
   "metadata": {},
   "outputs": [
    {
     "name": "stdout",
     "output_type": "stream",
     "text": [
      "['/wiki/File:Walt_Disney_1946.JPG', '/wiki/File:Walt_Disney_1942_signature.svg', '/wiki/File:Walt_Disney_envelope_ca._1921.jpg', '/wiki/File:Trolley_Troubles_poster.jpg', '/wiki/File:Walt_Disney_and_his_cartoon_creation_%22Mickey_Mouse%22_-_National_Board_of_Review_Magazine.jpg', '/wiki/File:Steamboat-willie.jpg', '/wiki/File:Walt_Disney_1935.jpg', '/wiki/File:Walt_Disney_Snow_white_1937_trailer_screenshot_(13).jpg', '/wiki/File:Disney_drawing_goofy.jpg', '/wiki/File:DisneySchiphol1951.jpg', '/wiki/File:WaltDisneyplansDisneylandDec1954.jpg', '/wiki/File:Walt_disney_portrait_right.jpg', '/wiki/File:Walt_Disney_Grave.JPG', '/wiki/File:Roy_O._Disney_with_Company_at_Press_Conference.jpg', '/wiki/File:Disney_Display_Case.JPG', '/wiki/File:Disney1968.jpg', '/wiki/File:Animation_disc.svg', '/wiki/File:P_vip.svg', '/wiki/File:Magic_Kingdom_castle.jpg', '/wiki/File:Video-x-generic.svg', '/wiki/File:Flag_of_Los_Angeles_County,_California.svg', '/wiki/File:Blank_television_set.svg', '/wiki/File:Flag_of_the_United_States.svg']\n"
     ]
    }
   ],
   "source": [
    "#your code\n",
    "html = requests.get(url).content\n",
    "soup = BeautifulSoup(html, 'lxml')\n",
    "\n",
    "img = soup.select('a[class=\"image\"]') \n",
    "imagen = [element['href'] for element in img]\n",
    "\n",
    "print(imagen)"
   ]
  },
  {
   "cell_type": "markdown",
   "metadata": {},
   "source": [
    "#### Retrieve an arbitary Wikipedia page of \"Python\" and create a list of links on that page"
   ]
  },
  {
   "cell_type": "code",
   "execution_count": 9,
   "metadata": {},
   "outputs": [],
   "source": [
    "# This is the url you will scrape in this exercise\n",
    "url ='https://en.wikipedia.org/wiki/Python' "
   ]
  },
  {
   "cell_type": "code",
   "execution_count": 10,
   "metadata": {},
   "outputs": [
    {
     "name": "stdout",
     "output_type": "stream",
     "text": [
      "['https://en.wiktionary.org/wiki/Python', 'https://en.wiktionary.org/wiki/python', '/wiki/Pythons', '/wiki/Python_(genus)', '#Computing', '#People', '#Roller_coasters', '#Vehicles', '#Weaponry', '#Other_uses', '#See_also', '/w/index.php?title=Python&action=edit&section=1', '/wiki/Python_(programming_language)', '/wiki/CMU_Common_Lisp', '/wiki/PERQ#PERQ_3', '/w/index.php?title=Python&action=edit&section=2', '/wiki/Python_of_Aenus', '/wiki/Python_(painter)', '/wiki/Python_of_Byzantium', '/wiki/Python_of_Catana', '/wiki/Python_Anghelo', '/w/index.php?title=Python&action=edit&section=3', '/wiki/Python_(Efteling)', '/wiki/Python_(Busch_Gardens_Tampa_Bay)', '/wiki/Python_(Coney_Island,_Cincinnati,_Ohio)', '/w/index.php?title=Python&action=edit&section=4', '/wiki/Python_(automobile_maker)', '/wiki/Python_(Ford_prototype)', '/w/index.php?title=Python&action=edit&section=5', '/wiki/Python_(missile)', '/wiki/Python_(nuclear_primary)', '/wiki/Colt_Python', '/w/index.php?title=Python&action=edit&section=6', '/wiki/PYTHON', '/wiki/Python_(film)', '/wiki/Python_(mythology)', '/wiki/Monty_Python', '/wiki/Python_(Monty)_Pictures', '/w/index.php?title=Python&action=edit&section=7', '/wiki/Cython', '/wiki/Pyton', '/wiki/Pithon', '/wiki/File:Disambig_gray.svg', '/wiki/Help:Disambiguation', 'https://en.wikipedia.org/w/index.php?title=Special:WhatLinksHere/Python&namespace=0']\n"
     ]
    }
   ],
   "source": [
    "#your code\n",
    "html = requests.get(url).content\n",
    "soup = BeautifulSoup(html, 'lxml')\n",
    "\n",
    "links = soup.select('div[class=\"mw-parser-output\"] a[href]') \n",
    "\n",
    "links_clean = [element['href'] for element in links]\n",
    "\n",
    "print(links_clean)"
   ]
  },
  {
   "cell_type": "markdown",
   "metadata": {},
   "source": [
    "#### Number of Titles that have changed in the United States Code since its last release point "
   ]
  },
  {
   "cell_type": "code",
   "execution_count": 11,
   "metadata": {},
   "outputs": [],
   "source": [
    "# This is the url you will scrape in this exercise\n",
    "url = 'http://uscode.house.gov/download/download.shtml'"
   ]
  },
  {
   "cell_type": "code",
   "execution_count": 12,
   "metadata": {},
   "outputs": [
    {
     "name": "stdout",
     "output_type": "stream",
     "text": [
      "['Title 7 - Agriculture', 'Title 11 - Bankruptcy ٭', 'Title 13 - Census ٭', 'Title 14 - Coast Guard ٭', 'Title 15 - Commerce and Trade', 'Title 16 - Conservation', 'Title 21 - Food and Drugs', 'Title 24 - Hospitals and Asylums', 'Title 27 - Intoxicating Liquors', 'Title 32 - National Guard ٭', 'Title 33 - Navigation and Navigable Waters', 'Title 34 - Crime Control and Law Enforcement', 'Title 36 - Patriotic and National Observances, Ceremonies, and Organizations ٭', \"Title 38 - Veterans' Benefits ٭\", 'Title 42 - The Public Health and Welfare', 'Title 45 - Railroads', 'Title 49 - Transportation ٭', 'Title 54 - National Park Service and Related Programs ٭']\n"
     ]
    }
   ],
   "source": [
    "#your code\n",
    "html = requests.get(url).content\n",
    "soup = BeautifulSoup(html, 'lxml')\n",
    "\n",
    "codigo = soup.select('div[class=\"usctitlechanged\"]') \n",
    "codigo_limpio = [element.text.strip() for element in codigo]\n",
    "\n",
    "print(codigo_limpio)"
   ]
  },
  {
   "cell_type": "markdown",
   "metadata": {},
   "source": [
    "#### A Python list with the top ten FBI's Most Wanted names "
   ]
  },
  {
   "cell_type": "code",
   "execution_count": 13,
   "metadata": {},
   "outputs": [],
   "source": [
    "# This is the url you will scrape in this exercise\n",
    "url = 'https://www.fbi.gov/wanted/topten'"
   ]
  },
  {
   "cell_type": "code",
   "execution_count": 14,
   "metadata": {},
   "outputs": [
    {
     "name": "stdout",
     "output_type": "stream",
     "text": [
      "['BHADRESHKUMAR CHETANBHAI PATEL', 'ALEJANDRO ROSALES CASTILLO', 'ARNOLDO JIMENEZ', 'JASON DEREK BROWN', 'ALEXIS FLORES', 'JOSE RODOLFO VILLARREAL-HERNANDEZ', 'EUGENE PALMER', 'RAFAEL CARO-QUINTERO', 'ROBERT WILLIAM FISHER', 'YASER ABDEL SAID']\n"
     ]
    }
   ],
   "source": [
    "#your code \n",
    "html = requests.get(url).content\n",
    "soup = BeautifulSoup(html, 'lxml')\n",
    "\n",
    "buscados = soup.select('h3[class=\"title\"]') \n",
    "\n",
    "\n",
    "buscados_2 = [element.text.strip() for element in buscados]\n",
    "\n",
    "print(buscados_2)"
   ]
  },
  {
   "cell_type": "markdown",
   "metadata": {},
   "source": [
    "####  20 latest earthquakes info (date, time, latitude, longitude and region name) by the EMSC as a pandas dataframe"
   ]
  },
  {
   "cell_type": "code",
   "execution_count": 15,
   "metadata": {},
   "outputs": [],
   "source": [
    "# This is the url you will scrape in this exercise\n",
    "url = 'https://www.emsc-csem.org/Earthquake/'"
   ]
  },
  {
   "cell_type": "code",
   "execution_count": 16,
   "metadata": {},
   "outputs": [
    {
     "data": {
      "text/html": [
       "<div>\n",
       "<style scoped>\n",
       "    .dataframe tbody tr th:only-of-type {\n",
       "        vertical-align: middle;\n",
       "    }\n",
       "\n",
       "    .dataframe tbody tr th {\n",
       "        vertical-align: top;\n",
       "    }\n",
       "\n",
       "    .dataframe thead th {\n",
       "        text-align: right;\n",
       "    }\n",
       "</style>\n",
       "<table border=\"1\" class=\"dataframe\">\n",
       "  <thead>\n",
       "    <tr style=\"text-align: right;\">\n",
       "      <th></th>\n",
       "      <th>date</th>\n",
       "      <th>latitude_1</th>\n",
       "      <th>latitude_2</th>\n",
       "      <th>longitude_1</th>\n",
       "      <th>longitude_2</th>\n",
       "      <th>magnitude</th>\n",
       "      <th>region</th>\n",
       "    </tr>\n",
       "  </thead>\n",
       "  <tbody>\n",
       "    <tr>\n",
       "      <th>0</th>\n",
       "      <td>2020-11-22   04:42:19.0</td>\n",
       "      <td>23.01</td>\n",
       "      <td>S</td>\n",
       "      <td>69.66</td>\n",
       "      <td>W</td>\n",
       "      <td>2.9</td>\n",
       "      <td>ANTOFAGASTA, CHILE</td>\n",
       "    </tr>\n",
       "    <tr>\n",
       "      <th>1</th>\n",
       "      <td>2020-11-22   04:41:14.0</td>\n",
       "      <td>19.24</td>\n",
       "      <td>N</td>\n",
       "      <td>155.40</td>\n",
       "      <td>W</td>\n",
       "      <td>2.1</td>\n",
       "      <td>ISLAND OF HAWAII, HAWAII</td>\n",
       "    </tr>\n",
       "    <tr>\n",
       "      <th>2</th>\n",
       "      <td>2020-11-22   04:22:25.0</td>\n",
       "      <td>0.22</td>\n",
       "      <td>S</td>\n",
       "      <td>123.04</td>\n",
       "      <td>E</td>\n",
       "      <td>2.6</td>\n",
       "      <td>SULAWESI, INDONESIA</td>\n",
       "    </tr>\n",
       "    <tr>\n",
       "      <th>3</th>\n",
       "      <td>2020-11-22   04:13:58.9</td>\n",
       "      <td>27.20</td>\n",
       "      <td>N</td>\n",
       "      <td>53.54</td>\n",
       "      <td>E</td>\n",
       "      <td>4.4</td>\n",
       "      <td>SOUTHERN IRAN</td>\n",
       "    </tr>\n",
       "    <tr>\n",
       "      <th>4</th>\n",
       "      <td>2020-11-22   04:05:33.0</td>\n",
       "      <td>24.00</td>\n",
       "      <td>S</td>\n",
       "      <td>67.39</td>\n",
       "      <td>W</td>\n",
       "      <td>3.4</td>\n",
       "      <td>ANTOFAGASTA, CHILE</td>\n",
       "    </tr>\n",
       "    <tr>\n",
       "      <th>5</th>\n",
       "      <td>2020-11-22   03:55:53.7</td>\n",
       "      <td>18.11</td>\n",
       "      <td>S</td>\n",
       "      <td>178.15</td>\n",
       "      <td>W</td>\n",
       "      <td>4.6</td>\n",
       "      <td>FIJI REGION</td>\n",
       "    </tr>\n",
       "    <tr>\n",
       "      <th>6</th>\n",
       "      <td>2020-11-22   03:53:09.3</td>\n",
       "      <td>36.65</td>\n",
       "      <td>N</td>\n",
       "      <td>6.76</td>\n",
       "      <td>E</td>\n",
       "      <td>5.3</td>\n",
       "      <td>NORTHERN ALGERIA</td>\n",
       "    </tr>\n",
       "    <tr>\n",
       "      <th>7</th>\n",
       "      <td>2020-11-22   03:29:21.8</td>\n",
       "      <td>26.18</td>\n",
       "      <td>N</td>\n",
       "      <td>94.60</td>\n",
       "      <td>E</td>\n",
       "      <td>4.5</td>\n",
       "      <td>ASSAM - NAGALAND REGION, INDIA</td>\n",
       "    </tr>\n",
       "    <tr>\n",
       "      <th>8</th>\n",
       "      <td>2020-11-22   03:21:14.0</td>\n",
       "      <td>4.93</td>\n",
       "      <td>N</td>\n",
       "      <td>127.93</td>\n",
       "      <td>E</td>\n",
       "      <td>3.1</td>\n",
       "      <td>KEPULAUAN TALAUD, INDONESIA</td>\n",
       "    </tr>\n",
       "    <tr>\n",
       "      <th>9</th>\n",
       "      <td>2020-11-22   03:13:08.0</td>\n",
       "      <td>16.64</td>\n",
       "      <td>N</td>\n",
       "      <td>94.50</td>\n",
       "      <td>W</td>\n",
       "      <td>4.0</td>\n",
       "      <td>OAXACA, MEXICO</td>\n",
       "    </tr>\n",
       "    <tr>\n",
       "      <th>10</th>\n",
       "      <td>2020-11-22   03:12:18.0</td>\n",
       "      <td>25.20</td>\n",
       "      <td>S</td>\n",
       "      <td>70.82</td>\n",
       "      <td>W</td>\n",
       "      <td>3.4</td>\n",
       "      <td>OFFSHORE ANTOFAGASTA, CHILE</td>\n",
       "    </tr>\n",
       "    <tr>\n",
       "      <th>11</th>\n",
       "      <td>2020-11-22   02:33:51.1</td>\n",
       "      <td>0.83</td>\n",
       "      <td>S</td>\n",
       "      <td>127.66</td>\n",
       "      <td>E</td>\n",
       "      <td>4.7</td>\n",
       "      <td>HALMAHERA, INDONESIA</td>\n",
       "    </tr>\n",
       "    <tr>\n",
       "      <th>12</th>\n",
       "      <td>2020-11-22   02:11:28.4</td>\n",
       "      <td>45.60</td>\n",
       "      <td>N</td>\n",
       "      <td>10.84</td>\n",
       "      <td>E</td>\n",
       "      <td>2.0</td>\n",
       "      <td>NORTHERN ITALY</td>\n",
       "    </tr>\n",
       "    <tr>\n",
       "      <th>13</th>\n",
       "      <td>2020-11-22   01:49:04.4</td>\n",
       "      <td>37.83</td>\n",
       "      <td>N</td>\n",
       "      <td>26.97</td>\n",
       "      <td>E</td>\n",
       "      <td>2.2</td>\n",
       "      <td>DODECANESE ISLANDS, GREECE</td>\n",
       "    </tr>\n",
       "    <tr>\n",
       "      <th>14</th>\n",
       "      <td>2020-11-22   01:46:51.0</td>\n",
       "      <td>0.96</td>\n",
       "      <td>S</td>\n",
       "      <td>129.47</td>\n",
       "      <td>E</td>\n",
       "      <td>3.3</td>\n",
       "      <td>HALMAHERA, INDONESIA</td>\n",
       "    </tr>\n",
       "    <tr>\n",
       "      <th>15</th>\n",
       "      <td>2020-11-22   01:35:01.2</td>\n",
       "      <td>38.14</td>\n",
       "      <td>N</td>\n",
       "      <td>117.88</td>\n",
       "      <td>W</td>\n",
       "      <td>3.5</td>\n",
       "      <td>NEVADA</td>\n",
       "    </tr>\n",
       "    <tr>\n",
       "      <th>16</th>\n",
       "      <td>2020-11-22   01:20:36.7</td>\n",
       "      <td>27.16</td>\n",
       "      <td>N</td>\n",
       "      <td>53.56</td>\n",
       "      <td>E</td>\n",
       "      <td>4.0</td>\n",
       "      <td>SOUTHERN IRAN</td>\n",
       "    </tr>\n",
       "    <tr>\n",
       "      <th>17</th>\n",
       "      <td>2020-11-22   01:16:44.5</td>\n",
       "      <td>44.29</td>\n",
       "      <td>N</td>\n",
       "      <td>114.98</td>\n",
       "      <td>W</td>\n",
       "      <td>2.6</td>\n",
       "      <td>SOUTHERN IDAHO</td>\n",
       "    </tr>\n",
       "    <tr>\n",
       "      <th>18</th>\n",
       "      <td>2020-11-22   01:13:48.5</td>\n",
       "      <td>37.95</td>\n",
       "      <td>N</td>\n",
       "      <td>27.21</td>\n",
       "      <td>E</td>\n",
       "      <td>2.2</td>\n",
       "      <td>WESTERN TURKEY</td>\n",
       "    </tr>\n",
       "    <tr>\n",
       "      <th>19</th>\n",
       "      <td>2020-11-22   01:02:22.0</td>\n",
       "      <td>34.63</td>\n",
       "      <td>S</td>\n",
       "      <td>73.13</td>\n",
       "      <td>W</td>\n",
       "      <td>2.8</td>\n",
       "      <td>OFFSHORE MAULE, CHILE</td>\n",
       "    </tr>\n",
       "  </tbody>\n",
       "</table>\n",
       "</div>"
      ],
      "text/plain": [
       "                       date latitude_1 latitude_2 longitude_1 longitude_2  \\\n",
       "0   2020-11-22   04:42:19.0      23.01          S       69.66           W   \n",
       "1   2020-11-22   04:41:14.0      19.24          N      155.40           W   \n",
       "2   2020-11-22   04:22:25.0       0.22          S      123.04           E   \n",
       "3   2020-11-22   04:13:58.9      27.20          N       53.54           E   \n",
       "4   2020-11-22   04:05:33.0      24.00          S       67.39           W   \n",
       "5   2020-11-22   03:55:53.7      18.11          S      178.15           W   \n",
       "6   2020-11-22   03:53:09.3      36.65          N        6.76           E   \n",
       "7   2020-11-22   03:29:21.8      26.18          N       94.60           E   \n",
       "8   2020-11-22   03:21:14.0       4.93          N      127.93           E   \n",
       "9   2020-11-22   03:13:08.0      16.64          N       94.50           W   \n",
       "10  2020-11-22   03:12:18.0      25.20          S       70.82           W   \n",
       "11  2020-11-22   02:33:51.1       0.83          S      127.66           E   \n",
       "12  2020-11-22   02:11:28.4      45.60          N       10.84           E   \n",
       "13  2020-11-22   01:49:04.4      37.83          N       26.97           E   \n",
       "14  2020-11-22   01:46:51.0       0.96          S      129.47           E   \n",
       "15  2020-11-22   01:35:01.2      38.14          N      117.88           W   \n",
       "16  2020-11-22   01:20:36.7      27.16          N       53.56           E   \n",
       "17  2020-11-22   01:16:44.5      44.29          N      114.98           W   \n",
       "18  2020-11-22   01:13:48.5      37.95          N       27.21           E   \n",
       "19  2020-11-22   01:02:22.0      34.63          S       73.13           W   \n",
       "\n",
       "   magnitude                          region  \n",
       "0        2.9              ANTOFAGASTA, CHILE  \n",
       "1        2.1        ISLAND OF HAWAII, HAWAII  \n",
       "2        2.6             SULAWESI, INDONESIA  \n",
       "3        4.4                   SOUTHERN IRAN  \n",
       "4        3.4              ANTOFAGASTA, CHILE  \n",
       "5        4.6                     FIJI REGION  \n",
       "6        5.3                NORTHERN ALGERIA  \n",
       "7        4.5  ASSAM - NAGALAND REGION, INDIA  \n",
       "8        3.1     KEPULAUAN TALAUD, INDONESIA  \n",
       "9        4.0                  OAXACA, MEXICO  \n",
       "10       3.4     OFFSHORE ANTOFAGASTA, CHILE  \n",
       "11       4.7            HALMAHERA, INDONESIA  \n",
       "12       2.0                  NORTHERN ITALY  \n",
       "13       2.2      DODECANESE ISLANDS, GREECE  \n",
       "14       3.3            HALMAHERA, INDONESIA  \n",
       "15       3.5                          NEVADA  \n",
       "16       4.0                   SOUTHERN IRAN  \n",
       "17       2.6                  SOUTHERN IDAHO  \n",
       "18       2.2                  WESTERN TURKEY  \n",
       "19       2.8           OFFSHORE MAULE, CHILE  "
      ]
     },
     "execution_count": 16,
     "metadata": {},
     "output_type": "execute_result"
    }
   ],
   "source": [
    "#your code\n",
    "html = requests.get(url).content\n",
    "soup = BeautifulSoup(html, 'lxml')\n",
    "\n",
    "terremotos = soup.select('td[class=\"tabev6\"] > b > a[href] , td[class=\"tabev1\"], td[class=\"tabev2\"], td[class=\"tb_region\"]   ') \n",
    "\n",
    "terremotos_limp = [element.text.strip() for element in terremotos]\n",
    "earthqks_20 = terremotos_limp[:140]\n",
    " \n",
    "terremotos_lista = [earthqks_20[i:i+7] for i in range(0, len(earthqks_20), 7) ]\n",
    "\n",
    "df = pd.DataFrame(terremotos_lista, columns = ['date', 'latitude_1', 'latitude_2', 'longitude_1', 'longitude_2', 'magnitude', 'region'])\n",
    "df"
   ]
  },
  {
   "cell_type": "markdown",
   "metadata": {},
   "source": [
    "#### Display the date, days, title, city, country of next 25 hackathon events as a Pandas dataframe table"
   ]
  },
  {
   "cell_type": "code",
   "execution_count": 17,
   "metadata": {},
   "outputs": [],
   "source": [
    "# This is the url you will scrape in this exercise\n",
    "url ='https://hackevents.co/hackathons'"
   ]
  },
  {
   "cell_type": "code",
   "execution_count": 18,
   "metadata": {},
   "outputs": [],
   "source": [
    "#your code\n"
   ]
  },
  {
   "cell_type": "markdown",
   "metadata": {},
   "source": [
    "#### Count number of tweets by a given Twitter account."
   ]
  },
  {
   "cell_type": "markdown",
   "metadata": {},
   "source": [
    "You will need to include a ***try/except block*** for account names not found. \n",
    "<br>***Hint:*** the program should count the number of tweets for any provided account"
   ]
  },
  {
   "cell_type": "code",
   "execution_count": 19,
   "metadata": {},
   "outputs": [],
   "source": [
    "# This is the url you will scrape in this exercise \n",
    "# You will need to add the account credentials to this url\n",
    "url = 'https://twitter.com/'"
   ]
  },
  {
   "cell_type": "code",
   "execution_count": 20,
   "metadata": {},
   "outputs": [],
   "source": [
    "#your code"
   ]
  },
  {
   "cell_type": "markdown",
   "metadata": {},
   "source": [
    "#### Number of followers of a given twitter account"
   ]
  },
  {
   "cell_type": "markdown",
   "metadata": {},
   "source": [
    "You will need to include a ***try/except block*** in case account/s name not found. \n",
    "<br>***Hint:*** the program should count the followers for any provided account"
   ]
  },
  {
   "cell_type": "code",
   "execution_count": 21,
   "metadata": {},
   "outputs": [],
   "source": [
    "# This is the url you will scrape in this exercise \n",
    "# You will need to add the account credentials to this url\n",
    "url = 'https://twitter.com/'"
   ]
  },
  {
   "cell_type": "code",
   "execution_count": 22,
   "metadata": {},
   "outputs": [],
   "source": [
    "#your code"
   ]
  },
  {
   "cell_type": "markdown",
   "metadata": {},
   "source": [
    "#### List all language names and number of related articles in the order they appear in wikipedia.org"
   ]
  },
  {
   "cell_type": "code",
   "execution_count": 23,
   "metadata": {},
   "outputs": [],
   "source": [
    "# This is the url you will scrape in this exercise\n",
    "url = 'https://www.wikipedia.org/'"
   ]
  },
  {
   "cell_type": "code",
   "execution_count": 24,
   "metadata": {},
   "outputs": [],
   "source": [
    "#your code\n",
    "html = requests.get(url).content\n",
    "soup = BeautifulSoup(html, 'html')\n",
    "\n"
   ]
  },
  {
   "cell_type": "markdown",
   "metadata": {},
   "source": [
    "#### A list with the different kind of datasets available in data.gov.uk "
   ]
  },
  {
   "cell_type": "code",
   "execution_count": 25,
   "metadata": {},
   "outputs": [],
   "source": [
    "# This is the url you will scrape in this exercise\n",
    "url = 'https://data.gov.uk/'"
   ]
  },
  {
   "cell_type": "code",
   "execution_count": 26,
   "metadata": {},
   "outputs": [],
   "source": [
    "#your code \n",
    "html = requests.get(url).content\n",
    "soup = BeautifulSoup(html, 'html')\n"
   ]
  },
  {
   "cell_type": "markdown",
   "metadata": {},
   "source": [
    "#### Top 10 languages by number of native speakers stored in a Pandas Dataframe"
   ]
  },
  {
   "cell_type": "code",
   "execution_count": 27,
   "metadata": {},
   "outputs": [],
   "source": [
    "# This is the url you will scrape in this exercise\n",
    "url = 'https://en.wikipedia.org/wiki/List_of_languages_by_number_of_native_speakers'"
   ]
  },
  {
   "cell_type": "code",
   "execution_count": 28,
   "metadata": {},
   "outputs": [],
   "source": [
    "#your code\n",
    "html = requests.get(url).content\n",
    "soup = BeautifulSoup(html, 'html')\n"
   ]
  },
  {
   "cell_type": "markdown",
   "metadata": {},
   "source": [
    "### BONUS QUESTIONS"
   ]
  },
  {
   "cell_type": "markdown",
   "metadata": {},
   "source": [
    "#### Scrape a certain number of tweets of a given Twitter account."
   ]
  },
  {
   "cell_type": "code",
   "execution_count": 29,
   "metadata": {},
   "outputs": [],
   "source": [
    "# This is the url you will scrape in this exercise \n",
    "# You will need to add the account credentials to this url\n",
    "url = 'https://twitter.com/'"
   ]
  },
  {
   "cell_type": "code",
   "execution_count": 30,
   "metadata": {},
   "outputs": [],
   "source": [
    "# your code"
   ]
  },
  {
   "cell_type": "markdown",
   "metadata": {},
   "source": [
    "#### IMDB's Top 250 data (movie name, Initial release, director name and stars) as a pandas dataframe"
   ]
  },
  {
   "cell_type": "code",
   "execution_count": 31,
   "metadata": {},
   "outputs": [],
   "source": [
    "# This is the url you will scrape in this exercise \n",
    "url = 'https://www.imdb.com/chart/top'"
   ]
  },
  {
   "cell_type": "code",
   "execution_count": 32,
   "metadata": {},
   "outputs": [],
   "source": [
    "# your code"
   ]
  },
  {
   "cell_type": "markdown",
   "metadata": {},
   "source": [
    "#### Movie name, year and a brief summary of the top 10 random movies (IMDB) as a pandas dataframe."
   ]
  },
  {
   "cell_type": "code",
   "execution_count": 33,
   "metadata": {},
   "outputs": [],
   "source": [
    "#This is the url you will scrape in this exercise\n",
    "url = 'http://www.imdb.com/chart/top'"
   ]
  },
  {
   "cell_type": "code",
   "execution_count": 34,
   "metadata": {},
   "outputs": [],
   "source": [
    "#your code"
   ]
  },
  {
   "cell_type": "markdown",
   "metadata": {},
   "source": [
    "#### Find the live weather report (temperature, wind speed, description and weather) of a given city."
   ]
  },
  {
   "cell_type": "code",
   "execution_count": 35,
   "metadata": {},
   "outputs": [
    {
     "name": "stdout",
     "output_type": "stream",
     "text": [
      "Enter the city:toluca\n"
     ]
    }
   ],
   "source": [
    "#https://openweathermap.org/current\n",
    "city = city=input('Enter the city:')\n",
    "url = 'http://api.openweathermap.org/data/2.5/weather?'+'q='+city+'&APPID=b35975e18dc93725acb092f7272cc6b8&units=metric'"
   ]
  },
  {
   "cell_type": "code",
   "execution_count": 36,
   "metadata": {},
   "outputs": [],
   "source": [
    "# your code"
   ]
  },
  {
   "cell_type": "markdown",
   "metadata": {},
   "source": [
    "#### Book name,price and stock availability as a pandas dataframe."
   ]
  },
  {
   "cell_type": "code",
   "execution_count": 37,
   "metadata": {},
   "outputs": [],
   "source": [
    "# This is the url you will scrape in this exercise. \n",
    "# It is a fictional bookstore created to be scraped. \n",
    "url = 'http://books.toscrape.com/'"
   ]
  },
  {
   "cell_type": "code",
   "execution_count": 38,
   "metadata": {},
   "outputs": [],
   "source": [
    "#your code"
   ]
  }
 ],
 "metadata": {
  "kernelspec": {
   "display_name": "Python 3",
   "language": "python",
   "name": "python3"
  },
  "language_info": {
   "codemirror_mode": {
    "name": "ipython",
    "version": 3
   },
   "file_extension": ".py",
   "mimetype": "text/x-python",
   "name": "python",
   "nbconvert_exporter": "python",
   "pygments_lexer": "ipython3",
   "version": "3.8.5"
  }
 },
 "nbformat": 4,
 "nbformat_minor": 2
}
